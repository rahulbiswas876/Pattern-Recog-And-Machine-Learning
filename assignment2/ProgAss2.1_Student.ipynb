{
 "cells": [
  {
   "cell_type": "markdown",
   "metadata": {},
   "source": [
    "# General Instructions to students:\n",
    "\n",
    "1. There are 5 types of cells in this notebook. The cell type will be indicated within the cell.\n",
    "    1. Markdown cells with problem written in it. (DO NOT TOUCH THESE CELLS) (**Cell type: TextRead**)\n",
    "    2. Python cells with setup code for further evaluations. (DO NOT TOUCH THESE CELLS) (**Cell type: CodeRead**)\n",
    "    3. Python code cells with some template code or empty cell. (FILL CODE IN THESE CELLS BASED ON INSTRUCTIONS IN CURRENT AND PREVIOUS CELLS) (**Cell type: CodeWrite**)\n",
    "    4. Markdown cells where a written reasoning or conclusion is expected. (WRITE SENTENCES IN THESE CELLS) (**Cell type: TextWrite**)\n",
    "    5. Temporary code cells for convenience and TAs. (YOU MAY DO WHAT YOU WILL WITH THESE CELLS, TAs WILL REPLACE WHATEVER YOU WRITE HERE WITH OFFICIAL EVALUATION CODE) (**Cell type: Convenience**)\n",
    "    \n",
    "2. You are not allowed to insert new cells in the submitted notebook.\n",
    "\n",
    "3. You are not allowed to import any extra packages.\n",
    "\n",
    "4. The code is to be written in Python 3.6 syntax. Latest versions of other packages maybe assumed.\n",
    "\n",
    "5. In CodeWrite Cells, the only outputs to be given are plots asked in the question. Nothing else to be output/print. \n",
    "\n",
    "6. If TextWrite cells ask you to give accuracy/error/other numbers you can print them on the code cells, but remove the print statements before submitting.\n",
    "\n",
    "7. The convenience code can be used to check the expected syntax of the functions. At a minimum, your entire notebook must run with \"run all\" with the convenience cells as it is. Any runtime failures on the submitted notebook as it is will get zero marks.\n",
    "\n",
    "8. All code must be written by yourself. Copying from other students/material on the web is strictly prohibited. Any violations will result in zero marks.\n",
    "\n",
    "9. All datasets will be given as .npz files, and will contain data in 4 numpy arrays :\"X_train, Y_train, X_test, Y_test\". In that order. The meaning of the 4 arrays can be easily inferred from their names.\n",
    "\n",
    "10. All plots must be labelled properly, all tables must have rows and columns named properly."
   ]
  },
  {
   "cell_type": "code",
   "execution_count": 5,
   "metadata": {},
   "outputs": [],
   "source": [
    "import numpy as np\n",
    "import matplotlib.pyplot as plt\n",
    "from sklearn.svm import SVC\n",
    "from sklearn.tree import DecisionTreeClassifier\n",
    "\n"
   ]
  },
  {
   "cell_type": "markdown",
   "metadata": {},
   "source": [
    "# 1. Logistic Regression \n",
    "\n",
    "Write code for doing logistic regression below. Also write code for choosing best hyperparameters for each kernel type (use a part of training set as validation set).\n",
    "\n",
    "Write code for running in the cell after (You may be asked to demonstrate your code during the viva using this cell.)\n",
    "\n",
    "In text cell after that report the following numbers you get by running appropriate code.\n",
    "\n",
    "Split the X_train, Y_train into train and validation based on an 80:20 split. For a given dataset, kernel parameter and regularisation value run gradient descent on the regularised kernel logistic loss on training set, with some learning rate eta. Try different etas, and choose the best eta (the eta that achieves the lowest R(alpha)), based on the alpha  you get after 1000 iterations.\n",
    "\n",
    "For the classification data sets A and B, report the best kernel and regularisation parameters for the RBF kernel.  Choose the best kernel and regularisation parameter based on the accuracy of the model given by the optimisation procedure. Report the training and test zero-one error (or 1-accuracy) for those hyperparameters. \n",
    "\n",
    "For both  the synthetic classification datasets (dataset_A and dataset_B) in 2-dimensions, also illustrate the learned classifier. Do this in the last codeWrite cell for this question.\n"
   ]
  },
  {
   "cell_type": "code",
   "execution_count": 25,
   "metadata": {},
   "outputs": [],
   "source": [
    "# CodeWrite \n",
    "#Write logistic regression code from scratch. Use gradient descent.\n",
    "# Only write functions here\n",
    "\n",
    "def get_kernel_mat(X_train, kernel='linear', kernel_param = None):\n",
    "    \"\"\" given kernel matrix\n",
    "    X_train: Nxd ndim array of N points\n",
    "    kernel_param: for linear none, for rbf, poly needed\n",
    "    return Kernel matirix\"\"\"\n",
    "    K = np.zeros(shape=(X_train.shape[0], X_train.shape[0]))\n",
    "    if kernel=='linear':\n",
    "        K = np.dot(X_train, X_train.T)\n",
    "    elif kernel == 'rbf':\n",
    "        for i in range(K.shape[0]):\n",
    "            for j in range(K.shape[1]):\n",
    "                K[i,j] = np.exp((-kernel_param)*np.linalg.norm((X_train[i,:] - X_train[j,:]), ord=2)**2)\n",
    "     \n",
    "    return K\n",
    "\n",
    "def gradient(curr_alphas, reg_param, y_train, kernel_mat):\n",
    "#     print(curr_alphas.shape, y_train.shape, kernel_mat.shape)\n",
    "    temp = np.dot(curr_alphas, kernel_mat)\n",
    "#     print(temp)\n",
    "#     print(temp.shape)\n",
    "    Z = (-1*Y_train)*temp\n",
    "    print('Z',Z.shape,'\\n', Z)\n",
    "    \n",
    "    A = np.exp(Z)\n",
    "    print('A',A.shape, '\\n', A)\n",
    "    \n",
    "    B = (1 + A)\n",
    "    print('B',B.shape, '\\n', B)\n",
    "#     print(B==0)\n",
    "    \n",
    "    D = (-1*A*Y_train)/B\n",
    "    print('D',D.shape, '\\n', D)\n",
    "    \n",
    "    grad = np.dot(kernel_mat, (D + reg_param*curr_alphas))\n",
    "    print('grad',grad.shape, '\\n', grad)\n",
    "    \n",
    "    return grad\n",
    "    \n",
    "# def get_fun_val(curr_alphas, reg_param, y_train, kernel_mat):\n",
    "#     temp = np.dot(curr_alphas, kernel_mat)\n",
    "#     Z = (-1*Y_train)*temp\n",
    "# #     print(Z.shape,'\\n', Z)\n",
    "    \n",
    "#     A = np.exp(Z)\n",
    "# #     print(A.shape, '\\n', A)\n",
    "#     temp = np.dot(curr_alphas,np.dot(curr_alphas,kernel_mat))\n",
    "#     #print(temp)\n",
    "#     return np.sum(1 + A)/Y_train.shape[0] + (reg_param/2)*temp\n",
    "\n",
    "def gradient_descent(reg_param,Y_train, kernel_mat,num_iter_gd=100):\n",
    "    next_alphas = np.random.rand(Y_train.shape[0])  # initialize alphas with ranoom\n",
    "    eta = 0.01  # Step size multiplier\n",
    "    precision = 0.00001  # Desired precision of result\n",
    "\n",
    "\n",
    "    for i in range(num_iter_gd):\n",
    "        current_alphas = next_alphas\n",
    "        next_alphas = current_alphas - eta * gradient(current_alphas, reg_param, Y_train, kernel_mat)\n",
    "        step = np.linalg.norm(next_alphas - current_alphas, ord=2)\n",
    "        if step <= precision:\n",
    "            break\n",
    "\n",
    "    print(\"Minimum at\", next_alphas)\n",
    "        \n",
    "    return next_alphas\n",
    "    \n",
    "    \n",
    "\n",
    "def train_pred_logistic_regression(X_train, Y_train, X_test, kernel='linear', reg_param=0.,\n",
    "                                   kernel_param=1., num_iter_gd=100):\n",
    "#     \"\"\"\n",
    "#     Arguments:\n",
    "#     X_train : (n,d) shape numpy array\n",
    "#     Y_train : (n,)  shape numpy array\n",
    "#     X_test : (m,d) shape numpy array\n",
    "#     kernel = 'linear' or 'rbf' or 'poly' \n",
    "#     reg_param = $\\lambda$\n",
    "\n",
    "#     Returns the prediction of logistic regression :\n",
    "#     $ \\min \\sum_{i=1}^n \\log(1+\\exp(-y_i* \\w^\\top \\phi(\\x_i)))  + \\frac{\\lambda}{2} ||\\w||^2 $\n",
    "#     where $\\phi$ is the feature got by the kernel.\n",
    "\n",
    "#     The kernel is defined by the kernel_param:\n",
    "#     If kernel=linear: K(\\u,\\v) = \\u^\\top \\v  \n",
    "#     If kernel=poly:  K(\\u,\\v) = (1+\\u^\\top \\v)^(kernel_param)\n",
    "#     If kernel=rbf:  K(\\u,\\v) = \\exp(-kernel_param*||\\u-\\v||^2)\n",
    "\n",
    "#     Returns:\n",
    "#     Y_test_pred: (m,) shape numpy array\n",
    "\n",
    "#     \"\"\"\n",
    "    return 0\n",
    "    \n",
    "    \n",
    "def return_best_hyperparam( ): # give appropriate arguments, return appropriate variables\n",
    "    return 0\n",
    "    \n",
    "\n"
   ]
  },
  {
   "cell_type": "code",
   "execution_count": 29,
   "metadata": {},
   "outputs": [],
   "source": [
    "# CodeWrite : Use the functions above to get the numbers you report below. \n",
    "datasets = ['dataset_A.npz', 'dataset_B.npz']\n",
    "i=0\n",
    "data = np.load('Archive2/' + datasets[i])\n",
    "X_train = data['arr_0.npy']\n",
    "Y_train = data['arr_1.npy']\n",
    "\n",
    "X_test  = data['arr_2.npy']\n",
    "Y_test  = data['arr_3.npy']\n",
    "\n",
    "# print('Xtria shape', X_train.shape)\n",
    "\n",
    "reg_param = 0.2\n",
    "kernel_mat = get_kernel_mat(X_train, kernel='rbf',kernel_param=0.2)\n"
   ]
  },
  {
   "cell_type": "code",
   "execution_count": 28,
   "metadata": {},
   "outputs": [
    {
     "name": "stdout",
     "output_type": "stream",
     "text": [
      "(1500,) (1500,) (1500, 1500)\n",
      "Z (1500,) \n",
      " [ 617.0234256   480.64255074  514.37294144 ... -623.09350774  598.38285901\n",
      " -479.58549701]\n",
      "A (1500,) \n",
      " [9.32972717e+267 5.50056823e+208 2.45092549e+223 ... 2.47701069e-271\n",
      " 7.48813618e+259 5.23196762e-209]\n",
      "B (1500,) \n",
      " [9.32972717e+267 5.50056823e+208 2.45092549e+223 ... 1.00000000e+000\n",
      " 7.48813618e+259 1.00000000e+000]\n",
      "D (1500,) \n",
      " [ 1.00000000e+000  1.00000000e+000  1.00000000e+000 ... -2.47701069e-271\n",
      "  1.00000000e+000 -5.23196762e-209]\n",
      "grad (1500,) \n",
      " [723.50319038 696.34668838 727.27399847 ... 734.12709471 733.66545033\n",
      " 426.73267855]\n",
      "(1500,) (1500,) (1500, 1500)\n",
      "Z (1500,) \n",
      " [-7161.24545836 -5892.95047006 -6259.61144864 ...  7283.08875562\n",
      " -7012.15039457  5155.7267712 ]\n",
      "A (1500,) \n",
      " [ 0.  0.  0. ... inf  0. inf]\n",
      "B (1500,) \n",
      " [ 1.  1.  1. ... inf  1. inf]\n",
      "D (1500,) \n",
      " [ 0.  0.  0. ... nan  0. nan]\n",
      "grad (1500,) \n",
      " [nan nan nan ... nan nan nan]\n",
      "Minimum at [nan nan nan ... nan nan nan]\n"
     ]
    },
    {
     "name": "stderr",
     "output_type": "stream",
     "text": [
      "/home/rbiswas876/anaconda3/lib/python3.7/site-packages/ipykernel_launcher.py:35: RuntimeWarning: invalid value encountered in true_divide\n"
     ]
    },
    {
     "data": {
      "text/plain": [
       "array([nan, nan, nan, ..., nan, nan, nan])"
      ]
     },
     "execution_count": 28,
     "metadata": {},
     "output_type": "execute_result"
    }
   ],
   "source": [
    "gradient_descent(reg_param, Y_train, kernel_mat, num_iter_gd=2)"
   ]
  },
  {
   "cell_type": "markdown",
   "metadata": {},
   "source": [
    "TextWrite Cell: Give your observations and the list of hyperparameter choices and train zero-one error  and test zero-one error for all three kernel choices, for all 4 datasets (2 real world and 2 synthetic).  \n",
    "\n",
    "\n"
   ]
  },
  {
   "cell_type": "code",
   "execution_count": null,
   "metadata": {
    "collapsed": true
   },
   "outputs": [],
   "source": [
    "# Codewrite cell: Generate plots of learned classifier for all three kernel types, on dataset_A and datasset_B.\n",
    "# Plots should give both the learned classifier and the train data. \n",
    "# Similar to  Bishop Figure 4.5 (with just two classes here.)\n",
    "# Total number of plots = 3 * 2 = 6\n",
    "\n"
   ]
  },
  {
   "cell_type": "markdown",
   "metadata": {},
   "source": [
    "# 2. SVM\n",
    "\n",
    "Write code for learning SVM below. Also write code for choosing best hyperparameters for each kernel type. You may use sklearn.svm for this purpose. (use a part of training set as validation set)\n",
    "\n",
    "Write code for running in the cell after (You may be asked to demonstrate your code during the via using this cell.)\n",
    "\n",
    "In text cell after that report the following numbers you get by running appropriate code:\n",
    "\n",
    "For each classification data set (dataset A,B,C,D) report the best kernel and regularisation parameters for linear, RBF and Poly kernels. (Linear has no kernel parameter.) Report the training and test zero-one error for those hyperparameters.\n",
    "\n",
    "For the synthetic classification datasets in 2-dimensions, also illustrate the learned classifier for each kernel setting. Do this in the last codeWrite cell for this question."
   ]
  },
  {
   "cell_type": "code",
   "execution_count": 3,
   "metadata": {},
   "outputs": [],
   "source": [
    "# CodeWrite cell\n",
    "# Write SVM classifier using SKlearn, write code for choosing best hyper parameters.\n",
    "# write only functions here\n",
    "\n",
    "def k_foldCV(model, X_train, Y_train, k_splits):\n",
    "    avg_vald_accur = 0.0\n",
    "    split_size = int(X_train.shape[0]/k_splits)\n",
    "    \n",
    "    for i in range(k_splits):\n",
    "        train_index = np.ones(X_train.shape[0], dtype=bool)\n",
    "        #indides = True used for CV_training, indices=false used for CV_validation\n",
    "        #[F F F T T T..T], [T T T F F F T T...T],......so on\n",
    "        train_index[i*split_size:(i*split_size + split_size)] = False\n",
    "        x_train_cv, y_train_cv = X_train[train_index == True,:], Y_train[train_index == True]\n",
    "        x_valid_cv, y_valid_cv = X_train[train_index == False,:], Y_train[train_index== False]\n",
    "        \n",
    "        model.fit(x_train_cv, y_train_cv)\n",
    "        avg_vald_accur = model.score(x_valid_cv, y_valid_cv)\n",
    "    \n",
    "    return avg_vald_accur/k_splits\n",
    "\n",
    "def gridSearch_rbf(X_train, Y_train):\n",
    "    best_C = None\n",
    "    best_gamma = None\n",
    "    best_vald_acc = np.infty*-1\n",
    "    \n",
    "    C_range = [0.001, 0.01, 0.1, 1.0, 10.0, 100.0]\n",
    "    gamma_range = [0.001, 0.01, 0.1, 1.0, 10.0, 100.0]\n",
    "    \n",
    "    for C in C_range:\n",
    "        for gamma in gamma_range:\n",
    "            clf_svc = SVC(C=C, kernel='rbf', gamma=gamma, verbose=False)\n",
    "            vald_acc = k_foldCV(clf_svc,X_train,Y_train, 10)\n",
    "            if vald_acc > best_vald_acc:\n",
    "                best_vald_acc = vald_acc\n",
    "                best_C = C\n",
    "                best_gamma = gamma\n",
    "    \n",
    "    return best_C, best_gamma, best_vald_acc\n",
    "\n",
    "# def gridSearch_poly(X_train, Y_train):\n",
    "    "
   ]
  },
  {
   "cell_type": "code",
   "execution_count": 5,
   "metadata": {},
   "outputs": [
    {
     "name": "stdout",
     "output_type": "stream",
     "text": [
      "========= dataset_A.npz============\n",
      "kernel = rbf  C =  0.1  gamma=  10.0\n",
      "========= dataset_B.npz============\n",
      "kernel = rbf  C =  1.0  gamma=  10.0\n"
     ]
    }
   ],
   "source": [
    "# CodeWrite cell\n",
    "# Write code here for generating the numbers that you report below.\n",
    "\n",
    "datasets = ['dataset_A.npz', 'dataset_B.npz']\n",
    "\n",
    "for s in datasets:\n",
    "    data = np.load('Archive2/' + s)\n",
    "    X_train = data['arr_0.npy']\n",
    "    Y_train = data['arr_1.npy']\n",
    "\n",
    "    print('========= ' + s + '============')\n",
    "    C, gamma, best_vald_acc = gridSearch_rbf(X_train,Y_train)\n",
    "    print('kernel = rbf',' C = ', C, ' gamma= ', gamma)\n",
    "    \n",
    "    \n",
    "\n",
    "\n",
    "# ---------------------------------------------------------------\n",
    "\n",
    "# ------------------------\n"
   ]
  },
  {
   "cell_type": "markdown",
   "metadata": {},
   "source": [
    "TextWrite Cell: Give your observations and the list of hyperparameter choices and train zero-one error  and test zero-one error for all three kernel choices, for all 4 datasets (2 real world and 2 synthetic).  \n"
   ]
  },
  {
   "cell_type": "code",
   "execution_count": 3,
   "metadata": {},
   "outputs": [
    {
     "data": {
      "image/png": "[encoded data removed]",
      "text/plain": [
       "<Figure size 1440x1440 with 6 Axes>"
      ]
     },
     "metadata": {
      "needs_background": "light"
     },
     "output_type": "display_data"
    }
   ],
   "source": [
    "# Codewrite cell: Generate plots of learned classifier for all three kernel types, on dataset_A and datasset_B.\n",
    "# Plots should give both the learned classifier and the train data. \n",
    "# Similar to  Bishop Figure 4.5 (with just two classes here.)\n",
    "# Total number of plots = 3 * 2 = 6\n",
    "\n",
    "from matplotlib.colors import ListedColormap\n",
    "def plot_decision_surface(model,X_train, Y_train, axes):\n",
    "    y_pred_train = model.predict(X_train)\n",
    "    \n",
    "    colors = ('red', 'blue')\n",
    "    cmap = ListedColormap(colors[:len(np.unique(Y_train))])\n",
    "\n",
    "    \n",
    "    x_min, x_max = X_train[:,0].min()-1, X_train[:,0].max()+1\n",
    "    y_min, y_max = X_train[:,1].min()-1, X_train[:,1].max()+1\n",
    "    xx, yy = np.meshgrid(np.arange(x_min, x_max, 0.02),np.arange(y_min, y_max, 0.02))\n",
    "    Z = model.predict(np.array([xx.ravel(), yy.ravel()]).T)\n",
    "    Z = Z.reshape(xx.shape)\n",
    "    \n",
    "    axes.contourf(xx, yy, Z, alpha=0.4, cmap=cmap)\n",
    "    axes.scatter(X_train[y_pred_train==-1,0], X_train[y_pred_train==-1,1],\n",
    "                alpha=1, s=80,color='r', marker='x')\n",
    "    \n",
    "    axes.scatter(X_train[y_pred_train==1,0], X_train[y_pred_train==1,1],\n",
    "                alpha=1, s=80, color='b', marker='o', facecolor='none', edgecolor='b')\n",
    "    \n",
    "    \n",
    "    \n",
    "\n",
    "\n",
    "datasets = ['dataset_A.npz', 'dataset_B.npz']\n",
    "fig = plt.subplots(nrows=2, ncols=3,figsize=(20,20))\n",
    "\n",
    "# plot for rbf\n",
    "plots_pos = np.array([231,234])\n",
    "C, gamma = [0.1, 0.1], [10.0, 1.0]\n",
    "for i in range(len(datasets)):\n",
    "    data = np.load('Archive2/' + datasets[i])\n",
    "    X_train = data['arr_0.npy']\n",
    "    Y_train = data['arr_1.npy']\n",
    "\n",
    "    X_test  = data['arr_2.npy']\n",
    "    Y_test  = data['arr_3.npy']\n",
    "    \n",
    "    svc_clf = SVC(C=C[i], kernel='rbf', gamma=gamma[i])\n",
    "    svc_clf.fit(X_train, Y_train)\n",
    "    \n",
    "    y_pred_train = svc_clf.predict(X_train)\n",
    "    y_pred_test = svc_clf.predict(X_test)\n",
    "    train_accuracy = np.count_nonzero(y_pred_train == Y_train)/Y_train.shape[0]\n",
    "    test_accuracy =  np.count_nonzero(y_pred_test == Y_test)/Y_test.shape[0]\n",
    "    \n",
    "#     axes = plt.subplot(plots_pos[i])\n",
    "#     plot_decision_surface(svc_clf,X_train, Y_train, axes)\n",
    "    \n",
    "    \n",
    "    \n",
    "    \n"
   ]
  },
  {
   "cell_type": "markdown",
   "metadata": {
    "collapsed": true
   },
   "source": [
    "# 3. Decision Tree\n",
    "\n",
    "Write code for learning decision tree below. Take as an argument a hyperparameter on what size node to stop splitting. Choose the number of training points at which you stop splitting the node further between 1,10 and 50. You are NOT allowed to use sklearn modules for this.)\n",
    "\n",
    "Write code for running in the cell after (You may be asked to demonstrate your code during the viva using this cell.)\n",
    "\n",
    "In text cell after that report the following numbers you get by running appropriate code:\n",
    "\n",
    "For the classification data sets A and B report the best node size to stop splitting. Report the training and test zero-one error for those hyperparameters.\n",
    "\n",
    "Also illustrate the learned classifier. Do this in the last codeWrite cell for this question.\n",
    "\n",
    "Important: Think about how you will represent a decision tree. (Possible soln: Store as a list of tuples containing node position, attribute to split, threshold, class to classifiy (if leaf node) )\n"
   ]
  },
  {
   "cell_type": "code",
   "execution_count": null,
   "metadata": {
    "collapsed": true
   },
   "outputs": [],
   "source": [
    "# CodeWrite cell\n",
    "# Write Decision tree classifier from scratch, write code for choosing best node size to stop splitting.\n",
    "# write only functions here\n",
    "\n",
    "\n"
   ]
  },
  {
   "cell_type": "code",
   "execution_count": null,
   "metadata": {
    "collapsed": true
   },
   "outputs": [],
   "source": [
    "# CodeWrite cell\n",
    "# Write code here for generating the numbers that you report below.\n",
    "\n"
   ]
  },
  {
   "cell_type": "markdown",
   "metadata": {},
   "source": [
    "TextWrite cell: Give your observations and the list of hyperparameter choices and train zero-one error  and test zero-one error, for all 4 datasets (2 real world and 2 synthetic).  \n",
    "\n"
   ]
  },
  {
   "cell_type": "code",
   "execution_count": null,
   "metadata": {
    "collapsed": true
   },
   "outputs": [],
   "source": [
    "## Codewrite cell: Generate plots of learned decision tree classifier on dataset_A and datasset_B.\n",
    "# Plots should give both the learned classifier and the train data. \n",
    "# Similar to  Bishop Figure 4.5 (with just two classes here.)\n",
    "# Total number of plots = 2 \n",
    "\n"
   ]
  },
  {
   "cell_type": "markdown",
   "metadata": {
    "collapsed": true
   },
   "source": [
    "# 4 Random Forest classifier\n",
    "\n",
    "Write code for learning RandomForests below. Fix the following hyper parameters: (Fraction of data to learn tree=0.5, Fraction of number of features taken per data=0.5).  Choose the number of trees to add in the forest by using a validation set. (You may use sklearn decision tree function, if you want)\n",
    "\n",
    "Write code for running in the cell after the nest. (You may be asked to demonstrate your code during the via using this cell.)\n",
    "\n",
    "In text cell after that report the following numbers you get by running appropriate code:\n",
    "\n",
    "For each classification data set (A,B,C,D) report the best number of trees found. Report the training and test zero-one error for those hyperparameters.\n",
    "\n",
    "For the synthetic classification datasets in 2-dimensions (datasets A,B), also illustrate the learned classifier. Do this in the last codeWrite cell for this question."
   ]
  },
  {
   "cell_type": "code",
   "execution_count": null,
   "metadata": {
    "collapsed": true
   },
   "outputs": [],
   "source": [
    "# CodeWrite cell\n",
    "# Write Random Forest classifier assuming access to a decision tree learner, \n",
    "# write code for choosing best node size to stop splitting.\n",
    "# write only functions here\n",
    "\n",
    "\n"
   ]
  },
  {
   "cell_type": "code",
   "execution_count": null,
   "metadata": {
    "collapsed": true
   },
   "outputs": [],
   "source": [
    "# CodeWrite cell\n",
    "# Write code here for generating the numbers that you report below.\n",
    "\n"
   ]
  },
  {
   "cell_type": "markdown",
   "metadata": {},
   "source": [
    "TextWrite cell: Give your observations and the list of hyperparameter choices and train zero-one error  and test zero-one error, for all 4 datasets (2 real world and 2 synthetic).  \n"
   ]
  },
  {
   "cell_type": "code",
   "execution_count": null,
   "metadata": {
    "collapsed": true
   },
   "outputs": [],
   "source": [
    "## Codewrite cell: Generate plots of learned Random Forest classifier on dataset_A and datasset_B.\n",
    "# Plots should give both the learned classifier and the train data. \n",
    "# Similar to  Bishop Figure 4.5 (with just two classes here.)\n",
    "# Total number of plots = 2 \n"
   ]
  }
 ],
 "metadata": {
  "kernelspec": {
   "display_name": "Python 3",
   "language": "python",
   "name": "python3"
  },
  "language_info": {
   "codemirror_mode": {
    "name": "ipython",
    "version": 3
   },
   "file_extension": ".py",
   "mimetype": "text/x-python",
   "name": "python",
   "nbconvert_exporter": "python",
   "pygments_lexer": "ipython3",
   "version": "3.7.1"
  }
 },
 "nbformat": 4,
 "nbformat_minor": 2
}
