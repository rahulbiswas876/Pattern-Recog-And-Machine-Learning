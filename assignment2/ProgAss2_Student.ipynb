{
 "cells": [
  {
   "cell_type": "markdown",
   "metadata": {},
   "source": [
    "# General Instructions to students:\n",
    "\n",
    "1. There are 5 types of cells in this notebook. The cell type will be indicated within the cell.\n",
    "    1. Markdown cells with problem written in it. (DO NOT TOUCH THESE CELLS) (**Cell type: TextRead**)\n",
    "    2. Python cells with setup code for further evaluations. (DO NOT TOUCH THESE CELLS) (**Cell type: CodeRead**)\n",
    "    3. Python code cells with some template code or empty cell. (FILL CODE IN THESE CELLS BASED ON INSTRUCTIONS IN CURRENT AND PREVIOUS CELLS) (**Cell type: CodeWrite**)\n",
    "    4. Markdown cells where a written reasoning or conclusion is expected. (WRITE SENTENCES IN THESE CELLS) (**Cell type: TextWrite**)\n",
    "    5. Temporary code cells for convenience and TAs. (YOU MAY DO WHAT YOU WILL WITH THESE CELLS, TAs WILL REPLACE WHATEVER YOU WRITE HERE WITH OFFICIAL EVALUATION CODE) (**Cell type: Convenience**)\n",
    "    \n",
    "2. You are not allowed to insert new cells in the submitted notebook.\n",
    "\n",
    "3. You are not allowed to import any extra packages.\n",
    "\n",
    "4. The code is to be written in Python 3.6 syntax. Latest versions of other packages maybe assumed.\n",
    "\n",
    "5. In CodeWrite Cells, the only outputs to be given are plots asked in the question. Nothing else to be output/print. \n",
    "\n",
    "6. If TextWrite cells ask you to give accuracy/error/other numbers you can print them on the code cells, but remove the print statements before submitting.\n",
    "\n",
    "7. The convenience code can be used to check the expected syntax of the functions. At a minimum, your entire notebook must run with \"run all\" with the convenience cells as it is. Any runtime failures on the submitted notebook as it is will get zero marks.\n",
    "\n",
    "8. All code must be written by yourself. Copying from other students/material on the web is strictly prohibited. Any violations will result in zero marks.\n",
    "\n",
    "9. All datasets will be given as .npz files, and will contain data in 4 numpy arrays :\"X_train, Y_train, X_test, Y_test\". In that order. The meaning of the 4 arrays can be easily inferred from their names.\n",
    "\n",
    "10. All plots must be labelled properly, all tables must have rows and columns named properly."
   ]
  },
  {
   "cell_type": "code",
   "execution_count": 1,
   "metadata": {},
   "outputs": [],
   "source": [
    "import numpy as np\n",
    "import matplotlib.pyplot as plt\n",
    "from sklearn.svm import SVC\n",
    "from sklearn import tree\n",
    "\n"
   ]
  },
  {
   "cell_type": "markdown",
   "metadata": {},
   "source": [
    "# 1. Logistic Regression \n",
    "\n",
    "Write code for doing logistic regression below. Also write code for choosing best hyperparameters for each kernel type (use a part of training set as validation set).\n",
    "\n",
    "Write code for running in the cell after (You may be asked to demonstrate your code during the viva using this cell.)\n",
    "\n",
    "In text cell after that report the following numbers you get by running appropriate code:\n",
    "\n",
    "For each classification data set report the best kernel and regularisation parameters for linear, RBF and Poly kernels. (Linear has no kernel parameter.) Report the training and test zero-one error for those hyperparameters. \n",
    "\n",
    "For the synthetic classification datasets (dataset_A and dataset_B) in 2-dimensions, also illustrate the learned classifier for each kernel setting. Do this in the last codeWrite cell for this question.\n"
   ]
  },
  {
   "cell_type": "code",
   "execution_count": null,
   "metadata": {
    "collapsed": true
   },
   "outputs": [],
   "source": [
    "# CodeWrite \n",
    "#Write logistic regression code from scratch. Use gradient descent.\n",
    "# Only write functions here\n",
    "\n",
    "def train_pred_logistic_regression(X_train, Y_train, X_test, kernel='linear', reg_param=0., \n",
    "                                   kernel_param=1., num_iter_gd=100):\n",
    "\"\"\"\n",
    "Arguments:\n",
    "X_train : (n,d) shape numpy array\n",
    "Y_train : (n,)  shape numpy array\n",
    "X_test : (m,d) shape numpy array\n",
    "kernel = 'linear' or 'rbf' or 'poly' \n",
    "reg_param = $\\lambda$\n",
    "\n",
    "Returns the prediction of logistic regression :\n",
    "$ \\min \\sum_{i=1}^n \\log(1+\\exp(-y_i* \\w^\\top \\phi(\\x_i)))  + \\frac{\\lambda}{2} ||\\w||^2 $\n",
    "where $\\phi$ is the feature got by the kernel.\n",
    "\n",
    "The kernel is defined by the kernel_param:\n",
    "If kernel=linear: K(\\u,\\v) = \\u^\\top \\v  \n",
    "If kernel=poly:  K(\\u,\\v) = (1+\\u^\\top \\v)^(kernel_param)\n",
    "If kernel=rbf:  K(\\u,\\v) = \\exp(-kernel_param*||\\u-\\v||^2)\n",
    "\n",
    "Returns:\n",
    "Y_test_pred: (m,) shape numpy array\n",
    "\n",
    "\"\"\"\n",
    "    \n",
    "    \n",
    "def return_best_hyperparam( ): # give appropriate arguments, return appropriate variables\n",
    "    \n",
    "\n"
   ]
  },
  {
   "cell_type": "code",
   "execution_count": null,
   "metadata": {
    "collapsed": true
   },
   "outputs": [],
   "source": [
    "# CodeWrite : Use the functions above to get the numbers you report below. \n",
    "\n"
   ]
  },
  {
   "cell_type": "markdown",
   "metadata": {},
   "source": [
    "TextWrite Cell: Give your observations and the list of hyperparameter choices and train zero-one error  and test zero-one error for all three kernel choices, for all 4 datasets (2 real world and 2 synthetic).  \n",
    "\n",
    "\n"
   ]
  },
  {
   "cell_type": "code",
   "execution_count": null,
   "metadata": {
    "collapsed": true
   },
   "outputs": [],
   "source": [
    "# Codewrite cell: Generate plots of learned classifier for all three kernel types, on dataset_A and datasset_B.\n",
    "# Plots should give both the learned classifier and the train data. \n",
    "# Similar to  Bishop Figure 4.5 (with just two classes here.)\n",
    "# Total number of plots = 3 * 2 = 6\n",
    "\n"
   ]
  },
  {
   "cell_type": "markdown",
   "metadata": {},
   "source": [
    "# 2. SVM\n",
    "\n",
    "Write code for learning SVM below. Also write code for choosing best hyperparameters for each kernel type. You may use sklearn.svm for this purpose. (use a part of training set as validation set)\n",
    "\n",
    "Write code for running in the cell after (You may be asked to demonstrate your code during the via using this cell.)\n",
    "\n",
    "In text cell after that report the following numbers you get by running appropriate code:\n",
    "\n",
    "For each classification data set report the best kernel and regularisation parameters for linear, RBF and Poly kernels. (Linear has no kernel parameter.) Report the training and test zero-one error for those hyperparameters.\n",
    "\n",
    "For the synthetic classification datasets in 2-dimensions, also illustrate the learned classifier for each kernel setting. Do this in the last codeWrite cell for this question."
   ]
  },
  {
   "cell_type": "code",
   "execution_count": null,
   "metadata": {
    "collapsed": true
   },
   "outputs": [],
   "source": [
    "# CodeWrite cell\n",
    "# Write SVM classifier using SKlearn, write code for choosing best hyper parameters.\n",
    "# write only functions here\n",
    "\n"
   ]
  },
  {
   "cell_type": "code",
   "execution_count": null,
   "metadata": {
    "collapsed": true
   },
   "outputs": [],
   "source": [
    "# CodeWrite cell\n",
    "# Write code here for generating the numbers that you report below.\n",
    "\n"
   ]
  },
  {
   "cell_type": "markdown",
   "metadata": {},
   "source": [
    "TextWrite Cell: Give your observations and the list of hyperparameter choices and train zero-one error  and test zero-one error for all three kernel choices, for all 4 datasets (2 real world and 2 synthetic).  \n"
   ]
  },
  {
   "cell_type": "code",
   "execution_count": null,
   "metadata": {
    "collapsed": true
   },
   "outputs": [],
   "source": [
    "# Codewrite cell: Generate plots of learned classifier for all three kernel types, on dataset_A and datasset_B.\n",
    "# Plots should give both the learned classifier and the train data. \n",
    "# Similar to  Bishop Figure 4.5 (with just two classes here.)\n",
    "# Total number of plots = 3 * 2 = 6\n",
    "\n",
    "\n"
   ]
  },
  {
   "cell_type": "markdown",
   "metadata": {
    "collapsed": true
   },
   "source": [
    "# 3. Decision Tree\n",
    "\n",
    "Write code for learning decision tree below. Take as an argument a hyperparameter on what size node to stop splitting. (use a part of training set as validation set) \n",
    "\n",
    "Write code for running in the cell after (You may be asked to demonstrate your code during the viva using this cell.)\n",
    "\n",
    "In text cell after that report the following numbers you get by running appropriate code:\n",
    "\n",
    "For each classification data set report the best node size to stop splitting. Report the training and test zero-one error for those hyperparameters.\n",
    "\n",
    "For the synthetic classification datasets in 2-dimensions, also illustrate the learned classifier. Do this in the last codeWrite cell for this question.\n",
    "\n",
    "Important: Think about how you will represent a decision tree. (Possible soln: Store as a list of tuples containing node position, attribute to split, threshold, class to classifiy (if leaf node) )\n"
   ]
  },
  {
   "cell_type": "code",
   "execution_count": null,
   "metadata": {
    "collapsed": true
   },
   "outputs": [],
   "source": [
    "# CodeWrite cell\n",
    "# Write Decision tree classifier from scratch, write code for choosing best node size to stop splitting.\n",
    "# write only functions here\n",
    "\n",
    "\n"
   ]
  },
  {
   "cell_type": "code",
   "execution_count": null,
   "metadata": {
    "collapsed": true
   },
   "outputs": [],
   "source": [
    "# CodeWrite cell\n",
    "# Write code here for generating the numbers that you report below.\n",
    "\n"
   ]
  },
  {
   "cell_type": "markdown",
   "metadata": {},
   "source": [
    "TextWrite cell: Give your observations and the list of hyperparameter choices and train zero-one error  and test zero-one error, for all 4 datasets (2 real world and 2 synthetic).  \n",
    "\n"
   ]
  },
  {
   "cell_type": "code",
   "execution_count": null,
   "metadata": {
    "collapsed": true
   },
   "outputs": [],
   "source": [
    "## Codewrite cell: Generate plots of learned decision tree classifier on dataset_A and datasset_B.\n",
    "# Plots should give both the learned classifier and the train data. \n",
    "# Similar to  Bishop Figure 4.5 (with just two classes here.)\n",
    "# Total number of plots = 2 \n",
    "\n"
   ]
  },
  {
   "cell_type": "markdown",
   "metadata": {
    "collapsed": true
   },
   "source": [
    "# 4 Random Forest classifier\n",
    "\n",
    "Write code for learning RandomForests below. Fix the following hyper parameters: (Fraction of data to learn tree=0.5, Fraction of number of features taken per data=0.5).  Choose the number of trees to add in the forest by using a validation set. (You may use sklearn decision tree function, if you want)\n",
    "\n",
    "Write code for running in the cell after the nest. (You may be asked to demonstrate your code during the via using this cell.)\n",
    "\n",
    "In text cell after that report the following numbers you get by running appropriate code:\n",
    "\n",
    "For each classification data set report the best number of trees found. Report the training and test zero-one error for those hyperparameters.\n",
    "\n",
    "For the synthetic classification datasets in 2-dimensions, also illustrate the learned classifier for each kernel setting. Do this in the last codeWrite cell for this question."
   ]
  },
  {
   "cell_type": "code",
   "execution_count": null,
   "metadata": {
    "collapsed": true
   },
   "outputs": [],
   "source": [
    "# CodeWrite cell\n",
    "# Write Random Forest classifier assuming access to a decision tree learner, \n",
    "# write code for choosing best node size to stop splitting.\n",
    "# write only functions here\n",
    "\n",
    "\n"
   ]
  },
  {
   "cell_type": "code",
   "execution_count": null,
   "metadata": {
    "collapsed": true
   },
   "outputs": [],
   "source": [
    "# CodeWrite cell\n",
    "# Write code here for generating the numbers that you report below.\n",
    "\n"
   ]
  },
  {
   "cell_type": "markdown",
   "metadata": {},
   "source": [
    "TextWrite cell: Give your observations and the list of hyperparameter choices and train zero-one error  and test zero-one error, for all 4 datasets (2 real world and 2 synthetic).  \n"
   ]
  },
  {
   "cell_type": "code",
   "execution_count": null,
   "metadata": {
    "collapsed": true
   },
   "outputs": [],
   "source": [
    "## Codewrite cell: Generate plots of learned Random Forest classifier on dataset_A and datasset_B.\n",
    "# Plots should give both the learned classifier and the train data. \n",
    "# Similar to  Bishop Figure 4.5 (with just two classes here.)\n",
    "# Total number of plots = 2 \n"
   ]
  }
 ],
 "metadata": {
  "kernelspec": {
   "display_name": "Python 3",
   "language": "python",
   "name": "python3"
  },
  "language_info": {
   "codemirror_mode": {
    "name": "ipython",
    "version": 3
   },
   "file_extension": ".py",
   "mimetype": "text/x-python",
   "name": "python",
   "nbconvert_exporter": "python",
   "pygments_lexer": "ipython3",
   "version": "3.6.8"
  }
 },
 "nbformat": 4,
 "nbformat_minor": 2
}
