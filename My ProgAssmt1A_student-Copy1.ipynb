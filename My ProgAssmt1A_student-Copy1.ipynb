{
 "cells": [
  {
   "cell_type": "markdown",
   "metadata": {},
   "source": [
    "# General Instructions to students:\n",
    "\n",
    "1. There are 5 types of cells in this notebook. The cell type will be indicated within the cell.\n",
    "    1. Markdown cells with problem written in it. (DO NOT TOUCH THESE CELLS) (**Cell type: TextRead**)\n",
    "    2. Python cells with setup code for further evaluations. (DO NOT TOUCH THESE CELLS) (**Cell type: CodeRead**)\n",
    "    3. Python code cells with some template code or empty cell. (FILL CODE IN THESE CELLS BASED ON INSTRUCTIONS IN CURRENT AND PREVIOUS CELLS) (**Cell type: CodeWrite**)\n",
    "    4. Markdown cells where a written reasoning or conclusion is expected. (WRITE SENTENCES IN THESE CELLS) (**Cell type: TextWrite**)\n",
    "    5. Temporary code cells for convenience and TAs. (YOU MAY DO WHAT YOU WILL WITH THESE CELLS, TAs WILL REPLACE WHATEVER YOU WRITE HERE WITH OFFICIAL EVALUATION CODE) (**Cell type: Convenience**)\n",
    "    \n",
    "2. You are not allowed to insert new cells in the submitted notebook.\n",
    "\n",
    "3. You are not allowed to import any extra packages.\n",
    "\n",
    "4. The code is to be written in Python 3.6 syntax. Latest versions of other packages maybe assumed.\n",
    "\n",
    "5. In CodeWrite Cells, the only outputs to be given are plots asked in the question. Nothing else to be output/print. \n",
    "\n",
    "6. If TextWrite cells ask you to give accuracy/error/other numbers you can print them on the code cells, but remove the print statements before submitting.\n",
    "\n",
    "7. The convenience code can be used to check the expected syntax of the functions. At a minimum, your entire notebook must run with \"run all\" with the convenience cells as it is. Any runtime failures on the submitted notebook as it is will get zero marks.\n",
    "\n",
    "8. All code must be written by yourself. Copying from other students/material on the web is strictly prohibited. Any violations will result in zero marks. \n",
    "\n",
    "9. You may discuss broad ideas with friends, but all code must be written by yourself.\n",
    "\n",
    "9. All datasets will be given as .npz files, and will contain data in 4 numpy arrays :\"X_train, Y_train, X_test, Y_test\". In that order. The meaning of the 4 arrays can be easily inferred from their names.\n",
    "\n",
    "10. All plots must be labelled properly, all tables must have rows and columns named properly.\n",
    "\n",
    "11. Plotting the data and prediction is highly encouraged for debugging. But remove debugging/understanding code before submitting.\n"
   ]
  },
  {
   "cell_type": "code",
   "execution_count": 1,
   "metadata": {},
   "outputs": [],
   "source": [
    "# Cell type : CodeRead\n",
    "\n",
    "import numpy as np\n",
    "import matplotlib.pyplot as plt\n"
   ]
  },
  {
   "cell_type": "markdown",
   "metadata": {},
   "source": [
    "**Cell type : TextRead**\n",
    "\n",
    "# Problem 1: Learning Binary Bayes Classifiers from data with Max. Likelihood \n",
    "\n",
    "Derive Bayes classifiers under assumptions below, and use ML estimators to compute and return the results on a test set. \n",
    "\n",
    "1a) Assume $X|Y=-1 \\sim \\mathcal{N}(\\mu_-, I)$ and  $X|Y=1 \\sim \\mathcal{N}(\\mu_+, I)$. *(Same known covariance)*\n",
    "\n",
    "1b) Assume $X|Y=-1 \\sim \\mathcal{N}(\\mu_-, \\Sigma)$ and $X|Y=1 \\sim \\mathcal{N}(\\mu_+, \\Sigma)$ *(Same unknown covariance)*\n",
    "\n",
    "1c) Assume $X|Y=-1 \\sim \\mathcal{N}(\\mu_-, \\Sigma_-)$ and $X|Y=1 \\sim \\mathcal{N}(\\mu_+, \\Sigma_+)$ *(different unknown covariance)*\n",
    "\n",
    "\n"
   ]
  },
  {
   "cell_type": "code",
   "execution_count": 3,
   "metadata": {},
   "outputs": [],
   "source": [
    "# Cell type : CodeWrite\n",
    "\n",
    "def Bayes1a(X_train, Y_train, X_test):\n",
    "    \"\"\" Give prediction for test instance using assumption 1a.\n",
    "\n",
    "    Arguments:\n",
    "    X_train: numpy array of shape (n,d)\n",
    "    Y_train: +1/-1 numpy array of shape (n,)\n",
    "    X_test : numpy array of shape (m,d)\n",
    "\n",
    "    Returns:\n",
    "    Y_test_pred : +1/-1 numpy array of shape (m,)\n",
    "    \n",
    "    \"\"\"\n",
    "    \n",
    "def Bayes1b(X_train, Y_train, X_test):\n",
    "    \"\"\" Give prediction for test instance using assumption 1b.\n",
    "\n",
    "    Arguments:\n",
    "    X_train: numpy array of shape (n,d)\n",
    "    Y_train: +1/-1 numpy array of shape (n,)\n",
    "    X_test : numpy array of shape (m,d)\n",
    "\n",
    "    Returns:\n",
    "    Y_test_pred : +1/-1 numpy array of shape (m,)\n",
    "    \n",
    "    \"\"\"\n",
    "\n",
    "def Bayes1c(X_train, Y_train, X_test):\n",
    "    \"\"\" Give prediction for test instance using assumption 1c.\n",
    "\n",
    "    Arguments:\n",
    "    X_train: numpy array of shape (n,d)\n",
    "    Y_train: +1/-1 numpy array of shape (n,)\n",
    "    X_test : numpy array of shape (m,d)\n",
    "\n",
    "    Returns:\n",
    "    Y_test_pred : +1/-1 numpy array of shape (m,)\n",
    "    \n",
    "    \"\"\"\n",
    "\n",
    "    \n",
    "    \n",
    "\n",
    "\n"
   ]
  },
  {
   "cell_type": "code",
   "execution_count": 4,
   "metadata": {},
   "outputs": [],
   "source": [
    "# Cell type : Convenience\n",
    "\n",
    "# Testing the functions above\n",
    "\n",
    "# To TAs: Replace this cell with the testing cell developed.\n",
    "\n",
    "# To students: You may use the example here for testing syntax issues \n",
    "# with your functions, and also as a sanity check. But the final evaluation\n",
    "# will be done for different inputs to the functions. (So you can't just \n",
    "# solve the problem for this one example given below.) \n",
    "\n",
    "\n",
    "X_train_pos = np.random.randn(1000,2)+np.array([[1.,2.]])\n",
    "X_train_neg = np.random.randn(1000,2)+np.array([[2.,4.]])\n",
    "X_train = np.concatenate((X_train_pos, X_train_neg), axis=0)\n",
    "Y_train = np.concatenate(( np.ones(1000), -1*np.ones(1000) ))\n",
    "X_test_pos = np.random.randn(1000,2)+np.array([[1.,2.]])\n",
    "X_test_neg = np.random.randn(1000,2)+np.array([[2.,4.]])\n",
    "X_test = np.concatenate((X_test_pos, X_test_neg), axis=0)\n",
    "Y_test = np.concatenate(( np.ones(1000), -1*np.ones(1000) ))\n",
    "\n",
    "Y_pred_test_1a = Bayes1a(X_train, Y_train, X_test)\n",
    "Y_pred_test_1b = Bayes1b(X_train, Y_train, X_test)\n",
    "Y_pred_test_1c = Bayes1c(X_train, Y_train, X_test)\n",
    "\n",
    "\n"
   ]
  },
  {
   "cell_type": "markdown",
   "metadata": {},
   "source": [
    "**Cell type : TextRead**\n",
    "\n",
    "# Problem 1\n",
    "\n",
    "1d) Run the above three algorithms (Bayes1a,1b and 1c), for the three datasets given (dataset1_1.npz, dataset1_2.npz, dataset1_3.npz) in the cell below.\n",
    "\n",
    "In the next CodeWrite cell, Plot all the classifiers (3 classification algos on 3 datasets = 9 plots) on a 2d plot (color the positively classified area light green, and negatively classified area light red). Add the training data points also on the plot. Plots to be organised into 3 plots follows: One plot for each dataset, with three subplots in each for the three classifiers. Label the 9 plots appropriately. \n",
    "\n",
    "In the next Textwrite cell, summarise (use the plots of the data and the assumptions in the problem to explain) your observations regarding the six learnt classifiers, and also give the error rate of the three classifiers on the three datasets as 3x3 table, with appropriately named rows and columns.\n"
   ]
  },
  {
   "cell_type": "code",
   "execution_count": 5,
   "metadata": {},
   "outputs": [],
   "source": [
    "# Cell type : CodeWrite\n",
    "# write the code for loading the data, running the three algos, and plotting here. \n",
    "# (Use the functions written previously.)\n",
    "\n"
   ]
  },
  {
   "cell_type": "markdown",
   "metadata": {},
   "source": [
    "** Cell type : TextWrite ** \n",
    "(Write your observations and table of errors here)\n",
    "\n"
   ]
  },
  {
   "cell_type": "markdown",
   "metadata": {},
   "source": [
    "\n",
    "** Cell type : TextRead ** \n",
    "\n",
    "\n",
    "# Problem 2 : Learning Multiclass Bayes Classifiers from data with Max. Likeli.\n",
    "\n",
    "Derive Bayes classifiers under assumptions below, and use ML estimators to compute and return the results on a test set. The $4\\times 4$ loss matrix giving the loss incurred for predicting $i$ when truth is $j$ is below.\n",
    "\n",
    "$L=\\begin{bmatrix} 0 &1 & 2& 3\\\\ 1 &0 & 1& 2\\\\ 2 &1 & 0& 1\\\\ 3 &2 & 1& 0 \\end{bmatrix}$ \n",
    "\n",
    "2a) Assume $X|Y=a$ is distributed as Normal with mean $\\mu_a$ and variance $I$.\n",
    "\n",
    "2b) Assume $X|Y=a$ is distributed as Normal with mean $\\mu_a$ and variance $\\Sigma$.\n",
    "\n",
    "2c) Assume $X|Y=a$ is distributed as Normal with mean $\\mu_a$ and variance $\\Sigma_a$.\n",
    "\n"
   ]
  },
  {
   "cell_type": "code",
   "execution_count": 6,
   "metadata": {},
   "outputs": [],
   "source": [
    "# Cell type : CodeWrite\n",
    "# Fill in functions in this cell\n",
    "\n",
    "\n",
    "def Bayes2a(X_train, Y_train, X_test):\n",
    "    \"\"\" Give Bayes classifier prediction for test instances \n",
    "    using assumption 2a.\n",
    "\n",
    "    Arguments:\n",
    "    X_train: numpy array of shape (n,d)\n",
    "    Y_train: {1,2,3,4} numpy array of shape (n,)\n",
    "    X_test : numpy array of shape (m,d)\n",
    "\n",
    "    Returns:\n",
    "    Y_test_pred : {1,2,3,4} numpy array of shape (m,)\n",
    "    \n",
    "    \"\"\"\n",
    "    \n",
    "def Bayes2b(X_train, Y_train, X_test):\n",
    "    \"\"\" Give Bayes classifier prediction for test instances \n",
    "    using assumption 2b.\n",
    "\n",
    "    Arguments:\n",
    "    X_train: numpy array of shape (n,d)\n",
    "    Y_train: {1,2,3,4} numpy array of shape (n,)\n",
    "    X_test : numpy array of shape (m,d)\n",
    "\n",
    "    Returns:\n",
    "    Y_test_pred : {1,2,3,4} numpy array of shape (m,)\n",
    "    \n",
    "    \"\"\"\n",
    "\n",
    "def Bayes2c(X_train, Y_train, X_test):\n",
    "    \"\"\" Give Bayes classifier prediction for test instances \n",
    "    using assumption 2c.\n",
    "\n",
    "    Arguments:\n",
    "    X_train: numpy array of shape (n,d)\n",
    "    Y_train: {1,2,3,4} numpy array of shape (n,)\n",
    "    X_test : numpy array of shape (m,d)\n",
    "\n",
    "    Returns:\n",
    "    Y_test_pred : {1,2,3,4} numpy array of shape (m,)\n",
    "    \n",
    "    \"\"\"\n",
    "\n",
    "    \n",
    "    \n",
    "\n",
    "\n",
    "    \n"
   ]
  },
  {
   "cell_type": "code",
   "execution_count": 7,
   "metadata": {},
   "outputs": [],
   "source": [
    "# Cell type : Convenience\n",
    "\n",
    "# Testing the functions above\n",
    "\n",
    "# Data 1\n",
    "\n",
    "mat1=np.array([[1.,0.],[0.,1.]])\n",
    "mat2=np.array([[1.,0.],[0.,1.]])\n",
    "mat3=np.array([[1.,0.],[0.,1.]])\n",
    "mat4=np.array([[1.,0.],[0.,1.]])\n",
    "\n",
    "X_train_1 = np.dot(np.random.randn(1000,2), mat1)+np.array([[0.,0.]])\n",
    "X_train_2 = np.dot(np.random.randn(1000,2), mat2)+np.array([[0.,2.]])\n",
    "X_train_3 = np.dot(np.random.randn(1000,2), mat3)+np.array([[2.,0.]])\n",
    "X_train_4 = np.dot(np.random.randn(1000,2), mat4)+np.array([[2.,2.]])\n",
    "\n",
    "X_train = np.concatenate((X_train_1, X_train_2, X_train_3, X_train_4), axis=0)\n",
    "Y_train = np.concatenate(( np.ones(1000), 2*np.ones(1000), 3*np.ones(1000), 4*np.ones(1000) ))\n",
    "\n",
    "\n",
    "X_test_1 = np.dot(np.random.randn(1000,2), mat1)+np.array([[0.,0.]])\n",
    "X_test_2 = np.dot(np.random.randn(1000,2), mat2)+np.array([[0.,2.]])\n",
    "X_test_3 = np.dot(np.random.randn(1000,2), mat3)+np.array([[2.,0.]])\n",
    "X_test_4 = np.dot(np.random.randn(1000,2), mat4)+np.array([[2.,2.]])\n",
    "\n",
    "X_test = np.concatenate((X_test_1, X_test_2, X_test_3, X_test_4), axis=0)\n",
    "Y_test = np.concatenate(( np.ones(1000), 2*np.ones(1000), 3*np.ones(1000), 4*np.ones(1000) ))\n",
    "\n",
    "\n",
    "\n",
    "Y_pred_test_2a = Bayes2a(X_train, Y_train, X_test)\n",
    "Y_pred_test_2b = Bayes2b(X_train, Y_train, X_test)\n",
    "Y_pred_test_2c = Bayes2c(X_train, Y_train, X_test)\n",
    "\n"
   ]
  },
  {
   "cell_type": "markdown",
   "metadata": {},
   "source": [
    "**Cell type : TextRead**\n",
    "\n",
    "# Problem 2\n",
    "\n",
    "2d) Run the above three algorithms (Bayes2a,2b and 2c), for the two datasets given (dataset2_1.npz, dataset2_2.npz) in the cell below.\n",
    "\n",
    "In the next CodeWrite cell, Plot all the classifiers (3 classification algos on 2 datasets = 6 plots) on a 2d plot (color the 4 areas classified as 1,2,3 and 4 differently). Add the training data points also on the plot. Plots to be organised as follows: One plot for each dataset, with three subplots in each for the three classifiers. Label the 6 plots appropriately. \n",
    "\n",
    "In the next Textwrite cell, summarise your observations regarding the six learnt classifiers. Give the *expected loss* (use the Loss matrix given in the problem.) of the three classifiers on the two datasets as 2x3 table, with appropriately named rows and columns. Also, give the 4x4 confusion matrix of the final classifier for all three algorithms and both datasets. \n"
   ]
  },
  {
   "cell_type": "code",
   "execution_count": 8,
   "metadata": {},
   "outputs": [],
   "source": [
    "# Cell type : CodeWrite\n",
    "# write the code for loading the data, running the three algos, and plotting here. \n",
    "# (Use the functions written previously.)\n",
    "\n"
   ]
  },
  {
   "cell_type": "markdown",
   "metadata": {},
   "source": [
    "** Cell type : TextWrite ** \n",
    "(Write your observations and table of errors here)\n",
    "\n"
   ]
  },
  {
   "cell_type": "markdown",
   "metadata": {},
   "source": [
    "**Cell type : TextRead **\n",
    "\n",
    "# Problem 3 : Bias-Variance analysis in regression\n",
    "\n",
    "Do bias variance analysis for the following setting: \n",
    "\n",
    "$X \\sim Unif([-1,1]\\times[-1,1])$\n",
    "\n",
    "$Y=\\exp(-4*||X-a||^2) + \\exp(-4*||X-b||^2) + \\exp(-4*||X-c||^2)$\n",
    "\n",
    "where $a=[0.5,0.5], b=[-0.5,0.5], c=[0.5, -0.5]$.\n",
    "\n",
    "Regularised Risk = $\\frac{1}{m} \\sum_{i=1}^m (w^\\top \\phi(x_i) - y_i)^2 + \\frac{\\lambda}{2} ||w||^2 $ \n",
    "\n",
    "Sample 50 (X,Y) points from above distribution, and do ridge regularised polynomial regression with degrees=[1,2,4,8,16] and regularisation parameters ($\\lambda$) = [1e-9, 1e-7, 1e-5, 1e-3, 1e-1, 1e1]. Repeat for 100 times, and estimate the bias and variance for all 15 algorithms. You may approximate the distribution over X by discretising the $[-1,1]\\times[-1,1]$ space into 10000 points. (Both expectations over S and (x,y) are simply estimates due to the finiteness of our experiments and sample)\n",
    " \n",
    "3a) For each of the 30 algorithms (corresponding to 5 degrees and 6 lambda values) analyse the contour plot of the estimated $f_S$ for 3 different training sets. And the average $g(x) = E_S [f_S(x)]$. Write one function for doing everything in the code cell below. \n",
    "\n",
    "3b) In the next text cell, give the Bias and Variance computed as a $5\\times 6$ matrix, appropriately label the rows and columns. And give your conclusion in one or two sentences. \n",
    "\n",
    "\n"
   ]
  },
  {
   "cell_type": "markdown",
   "metadata": {},
   "source": [
    "## Idea of Ridge Regression\n",
    "***\n",
    "- If weights become too large, it's overfits the data (low bias but hight variance).\n",
    "- to solve this, we can assume prior $Pr(w) \\sim Normal(0, I)$\n",
    "- **MAP** estimate of **w** is \n",
    "  $\\hat{\\mathbf{w}} = (λI_D + X^T X)^{−1}X^T y$\n"
   ]
  },
  {
   "cell_type": "code",
   "execution_count": 30,
   "metadata": {},
   "outputs": [],
   "source": [
    "#generates all term of so that sum of degree of components of x is equal to deg\n",
    "#example deg = 2, x = [x1, x2] then x1^0 * x2^2, x1^1 * x2^1, x1^2 * x2^0\n",
    "def phi_givendegree(deg_to_exand, x):\n",
    "    #this will create empty array of shape (x.shape , 0)\n",
    "    n = x.shape[0]\n",
    "    \n",
    "    #d the dimension of data x\n",
    "    d = x.shape[1]\n",
    "    all_terms = np.empty(shape=(n, 0))\n",
    "    for i in range(deg_to_exand+1):\n",
    "        all_terms = np.concatenate((all_terms, (x[:,0][:,None]**(np.abs(d-i) )* (x[:,1][:,None]**i))), axis=1)\n",
    "        \n",
    "    return all_terms\n",
    "        \n",
    "\n",
    "# # test phi_givendegree\n",
    "# a = np.array([[1,2],[4,8],[4,7]])\n",
    "# b = np.empty(shape=(3,0))\n",
    "\n",
    "# np.append(a,a[:, 1][:,None], axis=1)\n",
    "# b.shape\n",
    "\n",
    "# a[:, 0][:,None]**2\n",
    "\n",
    "# np.concatenate((b, a[:,1][:,None]), axis=1)\n",
    "\n",
    "# a = np.array([[1,2],[1,2],[1,2]])\n",
    "# phi_givendegree(2, a)\n",
    "# # x = a\n",
    "# # n = x.shape[0]\n",
    "# # d = x.shape[1]\n",
    "# # all_terms = np.empty(shape=(n, 0))\n",
    "# # (x[:,0][:,None]**(np.abs(d-i) )* (x[:,1][:,None]**i))\n",
    "\n",
    "# # np.\n",
    "\n",
    "# # x.shape[0]"
   ]
  },
  {
   "cell_type": "code",
   "execution_count": 31,
   "metadata": {},
   "outputs": [],
   "source": [
    "def basis_expansion_fun(deg, x):\n",
    "    n = x.shape[0]\n",
    "    phi = np.empty(shape=(n,0))\n",
    "    \n",
    "    for i in range(deg+1):\n",
    "        phi = np.concatenate((phi, phi_givendegree(deg_to_exand=i, x=x)), axis=1)\n",
    "        #print('i=',i, '\\n',phi)\n",
    "    \n",
    "    return phi\n",
    "\n",
    "\n",
    "# # test code\n",
    "# print(a)\n",
    "# basis_expansion_fun(3,a)\n",
    "\n",
    "\n",
    "    "
   ]
  },
  {
   "cell_type": "code",
   "execution_count": 32,
   "metadata": {},
   "outputs": [
    {
     "name": "stdout",
     "output_type": "stream",
     "text": [
      "samples (array([[-0.1378229 , -0.53816052],\n",
      "       [-0.05006143,  0.02376463],\n",
      "       [ 0.77798646,  0.50682932],\n",
      "       [-0.2995414 , -0.69503648],\n",
      "       [ 0.51220858,  0.89728971]]), array([0.20590034, 0.39944442, 0.74814877, 0.06965866, 0.54078822]))\n"
     ]
    }
   ],
   "source": [
    "def samples(sample_size=50):\n",
    "    feature1 = np.random.uniform(low=-1.0, high=1.0, size=sample_size).reshape(sample_size,1)\n",
    "    feature2 = np.random.uniform(low=-1.0, high=1.0, size=sample_size).reshape(sample_size,1)\n",
    "\n",
    "    # print(feature1)\n",
    "    # print(feature2)\n",
    "\n",
    "    x = np.concatenate((feature1, feature2), axis=1)\n",
    "    y = compute_y(x)\n",
    "    \n",
    "    return x,y\n",
    "\n",
    "def compute_y(x):\n",
    "    a = np.array([0.5,0.5])\n",
    "    b = np.array([-0.5,0.5])\n",
    "    c = np.array([0.5,-0.5])\n",
    "    y = np.exp( -4*np.sum((x-a)**2, axis=1)) + np.exp( -4*np.sum((x-b)**2, axis=1)) + np.exp( -4*np.sum((x-c)**2, axis=1))\n",
    "    \n",
    "    return y\n",
    "\n",
    "print('samples', samples(sample_size=5))"
   ]
  },
  {
   "cell_type": "code",
   "execution_count": 117,
   "metadata": {},
   "outputs": [
    {
     "data": {
      "text/plain": [
       "<matplotlib.colorbar.Colorbar at 0x7fe2b02a4470>"
      ]
     },
     "execution_count": 117,
     "metadata": {},
     "output_type": "execute_result"
    },
    {
     "data": {
      "image/png": "[encoded data removed]",
      "text/plain": [
       "<Figure size 432x288 with 2 Axes>"
      ]
     },
     "metadata": {},
     "output_type": "display_data"
    }
   ],
   "source": [
    "X1, X2 = np.meshgrid(np.linspace(-1,1,100), np.linspace(-1,1,100))\n",
    "# print(X1)\n",
    "# print(X2) \n",
    "\n",
    "Z = np.zeros(X1.shape)\n",
    "\n",
    "for i in range(Z.shape[0]):\n",
    "    for j in range(Z.shape[1]):\n",
    "        point = np.array([[X1[i,j], X2[i,j]]])\n",
    "        Z[i,j] = compute_y(point)\n",
    "\n",
    "plt.contourf(X1,X2, Z, levels=np.linspace(0.,1.2 , 20))  \n",
    "plt.colorbar()"
   ]
  },
  {
   "cell_type": "code",
   "execution_count": 112,
   "metadata": {},
   "outputs": [],
   "source": [
    "x, y = samples(sample_size=100)\n",
    "\n",
    "# design_matrix = basis_expansion_fun(deg=2, x=x)\n",
    "\n"
   ]
  },
  {
   "cell_type": "code",
   "execution_count": 113,
   "metadata": {},
   "outputs": [
    {
     "name": "stdout",
     "output_type": "stream",
     "text": [
      "[ 9.09209199e-02  9.09209200e-02  1.08846139e-03  9.09209199e-02\n",
      "  1.08846139e-03  1.48124750e-01  9.09209199e-02  1.08846137e-03\n",
      "  1.48124750e-01 -4.03574111e-01  9.09209199e-02  1.08846138e-03\n",
      "  1.48124750e-01 -4.03574111e-01 -1.14397481e+00  9.09209199e-02\n",
      "  1.08846138e-03  1.48124750e-01 -4.03574111e-01 -1.14397481e+00\n",
      "  1.87287149e+00  9.09209199e-02  1.08846138e-03  1.48124750e-01\n",
      " -4.03574111e-01 -1.14397481e+00  1.87287149e+00  2.71233935e+00\n",
      "  9.09209199e-02  1.08846138e-03  1.48124750e-01 -4.03574111e-01\n",
      " -1.14397481e+00  1.87287149e+00  2.71233935e+00 -2.73495680e+00\n",
      "  9.09209199e-02  1.08846138e-03  1.48124750e-01 -4.03574111e-01\n",
      " -1.14397481e+00  1.87287149e+00  2.71233935e+00 -2.73495680e+00\n",
      " -4.39862448e+00]\n",
      "(45,)\n"
     ]
    }
   ],
   "source": [
    "reg_param = 0.\n",
    "degree = 8\n",
    "\n",
    "# compute weight vector\n",
    "def polynomial_regression_ridge_train(X_train, Y_train, degree=1, reg_param=0.01):\n",
    "    \"\"\" Give best polynomial fitting data, based on empirical squared error minimisation.\n",
    "\n",
    "    Arguments:\n",
    "    X_train: numpy array of shape (n,d)\n",
    "    Y_train: numpy array of shape (n,)\n",
    "\n",
    "    Returns:\n",
    "    w : numpy array of shape (d',) with appropriate d'\n",
    "    \n",
    "    \"\"\"\n",
    "\n",
    "    design_matrix = basis_expansion_fun(deg=degree, x=X_train)\n",
    "    \n",
    "    weight = reg_param*np.identity(n= design_matrix.shape[1]) + np.dot(design_matrix.T, design_matrix)\n",
    "    weight = np.linalg.pinv(weight)\n",
    "    weight = np.dot(weight, np.dot(design_matrix.T, Y_train))\n",
    "\n",
    "    return weight   \n",
    "\n",
    "\n",
    "\n",
    "\n",
    "\n",
    "\n",
    "\n",
    "weig = polynomial_regression_ridge_train(X_train=x, Y_train=y, degree=degree, reg_param=reg_param)\n",
    "print(weig)\n",
    "print(weig.shape)"
   ]
  },
  {
   "cell_type": "code",
   "execution_count": 114,
   "metadata": {},
   "outputs": [
    {
     "name": "stdout",
     "output_type": "stream",
     "text": [
      "actual y [7.15381143e-01 5.14783430e-01 6.96495844e-02 2.60632039e-01\n",
      " 2.90309843e-01 7.92114682e-01 7.02046478e-01 7.09033951e-01\n",
      " 8.26297002e-01 1.26469439e-04 9.94750990e-01 2.82346394e-01\n",
      " 7.43258778e-01 5.52665247e-01 8.51601851e-01 1.95361607e-01\n",
      " 7.72898777e-01 1.82448019e-01 3.83652209e-01 7.33124831e-01\n",
      " 4.37173286e-01 8.71774257e-02 6.05318103e-01 1.41270682e-02\n",
      " 8.29157205e-01 1.55105305e-01 3.59159148e-01 8.54820892e-01\n",
      " 4.00194938e-01 4.50057128e-01 1.63592617e-02 9.05988421e-01\n",
      " 3.82914706e-04 8.30741603e-01 5.22237923e-01 6.92960668e-02\n",
      " 1.86877596e-02 5.95357713e-01 8.27823976e-01 9.40338312e-01\n",
      " 9.45459195e-01 6.53227790e-02 3.10608976e-01 1.01440599e+00\n",
      " 5.41237637e-01 7.12234960e-01 8.86695569e-01 5.96519846e-01\n",
      " 4.53521751e-01 7.15788668e-01 9.52815336e-01 3.81560512e-01\n",
      " 9.91958568e-01 4.43857733e-01 3.01582422e-01 1.53713020e-01\n",
      " 3.41176794e-01 7.48687544e-01 9.41569695e-01 7.76816146e-02\n",
      " 8.71267645e-01 1.34496059e-02 7.34740630e-01 4.75168318e-01\n",
      " 3.36684640e-01 9.35364546e-03 8.25037377e-01 9.45222731e-01\n",
      " 7.64175898e-01 7.32613207e-01 1.99184221e-02 5.65704122e-01\n",
      " 6.08027565e-01 3.66395228e-01 3.67130571e-01 7.25371453e-01\n",
      " 5.62970406e-01 1.35589542e-01 7.51653333e-01 4.72588806e-01\n",
      " 7.74477446e-01 1.29086365e-01 8.32861616e-01 4.43214904e-01\n",
      " 1.99601517e-01 5.61788523e-01 4.81725362e-01 5.29581384e-01\n",
      " 6.14143456e-01 5.17479678e-01 7.93013357e-01 1.12674523e-03\n",
      " 8.46769750e-01 9.61329843e-01 6.64408660e-01 4.43042640e-01\n",
      " 9.23065695e-01 4.64893586e-01 1.66582594e-01 6.97644964e-01]\n",
      "predicted y [ 0.65211451  0.14144134  0.25027907  0.64249303  0.20408235  0.53745338\n",
      "  0.64088795  0.81380896  0.71088969 -0.07254399  0.4760095   0.23712048\n",
      "  0.68328139  0.74504299  0.21951064  0.61967405  0.14196061  0.22222832\n",
      "  0.93692933  0.78231045  0.89313601  0.50867544  0.46465346  0.14719073\n",
      "  0.16434851  0.19711605  0.77949886  0.55286528  0.02825309  0.00430704\n",
      "  0.38808139  0.66317981  0.24040723  0.1323009   0.34421664  0.28724104\n",
      "  0.19544385  0.27144257  0.72110374  0.38468163  0.2942359   0.28776689\n",
      "  0.33176806  0.24906437  0.06174003  0.36860643  0.24719611  0.45273064\n",
      "  0.61815331  0.64652037  0.58958757  0.24079099  0.21797557  0.4216892\n",
      "  0.08085719  0.23470171  0.24883846  0.14508506  0.48212814  0.24730829\n",
      "  0.65829127  0.27203641  0.71254854  0.72148465  0.38033872  0.42436178\n",
      "  0.18574317  0.47370471  0.3324965   0.31160373  0.03628566  0.83895258\n",
      "  0.04255032  0.20654558  0.02492939  0.13164184  0.6239789   0.6679238\n",
      "  0.18405243  0.8595413   0.69194958  0.87565698  0.26940431  0.75655537\n",
      "  0.10062733  0.17102386  0.01216183  0.55508001  0.08021483  0.01863596\n",
      "  0.11829702  0.19229742  0.528197    0.27087089  0.06298455  0.53882827\n",
      "  0.18314665  0.82289876  0.36405968  0.30928589]\n"
     ]
    }
   ],
   "source": [
    "def polynomial_regression_ridge_pred(X_test, wt_vector, degree=1):\n",
    "    \"\"\" Give the value of the learned polynomial function, on test data.\n",
    "\n",
    "    Arguments:\n",
    "    X_test: numpy array of shape (n,d)\n",
    "    wt_vec: numpy array of shape (d',)\n",
    "\n",
    "    Returns:\n",
    "    Y_test_pred : numpy array of shape (n,)\n",
    "    \n",
    "    \"\"\"\n",
    "    design_matrix = basis_expansion_fun(deg=degree, x=X_test)\n",
    "    Y_predicted = np.dot(design_matrix, wt_vector)\n",
    "    return Y_predicted\n",
    "\n",
    "y_predicted = polynomial_regression_ridge_pred(X_test=x, wt_vector=weig, degree=degree)\n",
    "\n",
    "print('actual y', y)\n",
    "print('predicted y', y_predicted)"
   ]
  },
  {
   "cell_type": "code",
   "execution_count": 115,
   "metadata": {},
   "outputs": [
    {
     "data": {
      "image/png": "[encoded data removed]",
      "text/plain": [
       "<Figure size 432x288 with 2 Axes>"
      ]
     },
     "metadata": {},
     "output_type": "display_data"
    }
   ],
   "source": [
    "\n",
    "def visualise_polynomial_2d(wt_vector, degree, title=\"\"):\n",
    "\n",
    "    X,Y = np.meshgrid(np.linspace(-1,1,100), np.linspace(-1,1,100))\n",
    "    \n",
    "    Z = np.zeros(X.shape)\n",
    "    \n",
    "    for i in range(Z.shape[0]):\n",
    "        for j in range(Z.shape[1]):\n",
    "            point = np.array([[X[i,j], Y[i,j]]])\n",
    "#             print(point)\n",
    "            Z[i,j] = polynomial_regression_ridge_pred(X_test=point, wt_vector=weig, degree=degree)\n",
    "\n",
    "    plt.contourf(X,Y,Z,levels=np.linspace(0.,1.2 , 20))\n",
    "    plt.title('learned function : degree= '+ str(degree)+ ' , reg_param=' + title)\n",
    "    plt.colorbar()\n",
    "    \n",
    "\n",
    "visualise_polynomial_2d(wt_vector=weig, degree=degree, title=str(reg_param))    \n"
   ]
  },
  {
   "cell_type": "code",
   "execution_count": 132,
   "metadata": {},
   "outputs": [
    {
     "data": {
      "image/png": "[encoded data removed]",
      "text/plain": [
       "<Figure size 576x576 with 4 Axes>"
      ]
     },
     "metadata": {},
     "output_type": "display_data"
    }
   ],
   "source": [
    "# draw originalfunc and predicted func contours\n",
    "\n",
    "def my_visualise_polynomial_2d(wt_vector, degree, title=\"\"):\n",
    "\n",
    "    X1, X2 = np.meshgrid(np.linspace(-1,1,100), np.linspace(-1,1,100))\n",
    "    # print(X1)\n",
    "    # print(X2) \n",
    "\n",
    "    Z_orig = np.zeros(X1.shape)\n",
    "    Z_pred = np.zeros(X1.shape)\n",
    "\n",
    "    for i in range(Z.shape[0]):\n",
    "        for j in range(Z.shape[1]):\n",
    "            point = np.array([[X1[i,j], X2[i,j]]])\n",
    "            Z_orig[i,j] = compute_y(point)\n",
    "            Z_pred[i,j] = polynomial_regression_ridge_pred(X_test=point, wt_vector=weig, degree=degree)\n",
    "\n",
    "    fig,(ax1, ax2) = plt.subplots(nrows=2, figsize=(8,8))\n",
    "    \n",
    "    ax1.axis((-1,1,-1,1))\n",
    "    cntr1 = ax1.contourf(X1, X2, Z_orig,levels=np.linspace(0.,1.2 , 20) ) \n",
    "    ax1.set_title('original')\n",
    "    fig.colorbar(cntr1, ax= ax1)\n",
    "    \n",
    "    ax2.axis((-1,1,-1,1))\n",
    "    cntr2 = ax2.contourf(X1, X2, Z_pred,levels=np.linspace(0.,1.2 , 20))\n",
    "    ax2.set_title('learned function : degree= '+ str(degree)+ ' , reg_param=' + title)\n",
    "    fig.colorbar(cntr2, ax=ax2)\n",
    "    \n",
    "    \n",
    "    plt.show()\n",
    "    \n",
    "\n",
    "my_visualise_polynomial_2d(wt_vector=weig, degree=degree, title=str(reg_param))    \n"
   ]
  },
  {
   "cell_type": "code",
   "execution_count": 68,
   "metadata": {},
   "outputs": [
    {
     "data": {
      "text/plain": [
       "'0.3hi'"
      ]
     },
     "execution_count": 68,
     "metadata": {},
     "output_type": "execute_result"
    }
   ],
   "source": [
    "title=\"\"\n",
    "title = str(reg_param) + 'hi'\n",
    "title"
   ]
  },
  {
   "cell_type": "code",
   "execution_count": 9,
   "metadata": {},
   "outputs": [
    {
     "ename": "TypeError",
     "evalue": "'NoneType' object is not iterable",
     "output_type": "error",
     "traceback": [
      "\u001b[0;31m---------------------------------------\u001b[0m",
      "\u001b[0;31mTypeError\u001b[0mTraceback (most recent call last)",
      "\u001b[0;32m<ipython-input-9-73053fafe595>\u001b[0m in \u001b[0;36m<module>\u001b[0;34m()\u001b[0m\n\u001b[1;32m     61\u001b[0m     \u001b[0;32mfor\u001b[0m \u001b[0mreg_param\u001b[0m \u001b[0;32min\u001b[0m \u001b[0;34m[\u001b[0m\u001b[0;36m1e-9\u001b[0m\u001b[0;34m,\u001b[0m \u001b[0;36m1e-7\u001b[0m\u001b[0;34m,\u001b[0m \u001b[0;36m1e-5\u001b[0m\u001b[0;34m,\u001b[0m \u001b[0;36m1e-3\u001b[0m\u001b[0;34m,\u001b[0m \u001b[0;36m1e-1\u001b[0m\u001b[0;34m,\u001b[0m \u001b[0;36m1e1\u001b[0m\u001b[0;34m]\u001b[0m\u001b[0;34m:\u001b[0m\u001b[0;34m\u001b[0m\u001b[0m\n\u001b[1;32m     62\u001b[0m         \u001b[0mplt\u001b[0m\u001b[0;34m.\u001b[0m\u001b[0mfigure\u001b[0m\u001b[0;34m(\u001b[0m\u001b[0;34m)\u001b[0m\u001b[0;34m\u001b[0m\u001b[0m\n\u001b[0;32m---> 63\u001b[0;31m         \u001b[0mb\u001b[0m\u001b[0;34m,\u001b[0m\u001b[0mv\u001b[0m\u001b[0;34m,\u001b[0m\u001b[0me\u001b[0m \u001b[0;34m=\u001b[0m \u001b[0mcompute_BV_error_sample_plot\u001b[0m\u001b[0;34m(\u001b[0m\u001b[0mdegree\u001b[0m\u001b[0;34m,\u001b[0m \u001b[0mreg_param\u001b[0m\u001b[0;34m)\u001b[0m\u001b[0;34m\u001b[0m\u001b[0m\n\u001b[0m\u001b[1;32m     64\u001b[0m         \u001b[0mprint\u001b[0m\u001b[0;34m(\u001b[0m\u001b[0;34m'================================'\u001b[0m\u001b[0;34m)\u001b[0m\u001b[0;34m\u001b[0m\u001b[0m\n\u001b[1;32m     65\u001b[0m         \u001b[0mprint\u001b[0m\u001b[0;34m(\u001b[0m\u001b[0;34m'Degree= '\u001b[0m\u001b[0;34m+\u001b[0m\u001b[0mstr\u001b[0m\u001b[0;34m(\u001b[0m\u001b[0mdegree\u001b[0m\u001b[0;34m)\u001b[0m\u001b[0;34m+\u001b[0m\u001b[0;34m' lambda= '\u001b[0m\u001b[0;34m+\u001b[0m\u001b[0mstr\u001b[0m\u001b[0;34m(\u001b[0m\u001b[0mreg_param\u001b[0m\u001b[0;34m)\u001b[0m\u001b[0;34m)\u001b[0m\u001b[0;34m\u001b[0m\u001b[0m\n",
      "\u001b[0;31mTypeError\u001b[0m: 'NoneType' object is not iterable"
     ]
    },
    {
     "data": {
      "text/plain": [
       "<Figure size 432x288 with 0 Axes>"
      ]
     },
     "metadata": {},
     "output_type": "display_data"
    }
   ],
   "source": [
    "# Cell type : CodeWrite\n",
    "\n",
    "def polynomial_regression_ridge_pred(X_test, wt_vector, degree=1):\n",
    "    \"\"\" Give the value of the learned polynomial function, on test data.\n",
    "\n",
    "    Arguments:\n",
    "    X_test: numpy array of shape (n,d)\n",
    "    wt_vec: numpy array of shape (d',)\n",
    "\n",
    "    Returns:\n",
    "    Y_test_pred : numpy array of shape (n,)\n",
    "    \n",
    "    \"\"\"\n",
    "    \n",
    "\n",
    "    \n",
    "    \n",
    "def visualise_polynomial_2d(wt_vector, degree, title=\"\"):\n",
    "\n",
    "    X,Y = np.meshgrid(np.linspace(-1,1,100), np.linspace(-1,1,100))\n",
    "\n",
    "    plt.contourf(X,Y,Z,levels=np.linspace(0.,1.2 , 20))\n",
    "    plt.title('learned function : degree= '+ str(degree) + title)\n",
    "    plt.colorbar()\n",
    "    \n",
    "    \n",
    "    \n",
    "    \n",
    "def polynomial_regression_ridge_train(X_train, Y_train, degree=1, reg_param=0.01):\n",
    "    \"\"\" Give best polynomial fitting data, based on empirical squared error minimisation.\n",
    "\n",
    "    Arguments:\n",
    "    X_train: numpy array of shape (n,d)\n",
    "    Y_train: numpy array of shape (n,)\n",
    "\n",
    "    Returns:\n",
    "    w : numpy array of shape (d',) with appropriate d'\n",
    "    \n",
    "    \"\"\"\n",
    "    \n",
    "    \n",
    "\n",
    "    \n",
    "    \n",
    "def compute_BV_error_sample_plot(degree, reg_param, num_training_samples=50):\n",
    "    \n",
    "    \"\"\"Write code for generating data, fitting polynomial for given degree and reg_param. \n",
    "    Use num_training_samples samples for training.\n",
    "        \n",
    "    Compute the $f_S$ of 100 runs. \n",
    "\n",
    "    Plot 3 examples of learned function to illustrate how learned function varies \n",
    "    with different training samples. Also plot the average $f_S$ of all 100 runs.\n",
    "    \n",
    "    In total 4 subplots in one plot with appropriate title including degree and lambda value.\n",
    "    \n",
    "    Fill code to compute bias and variance, and average mean square error using the computed 100 $f_S$ functions.\n",
    "    \n",
    "    All contourplots are to be drawn with levels=np.linspace(0,1.2,20)\n",
    "    \n",
    "    Also return bias, variance, mean squared error. \"\"\"\n",
    "\n",
    "\n",
    "for degree in [1,2,4,8,16]:\n",
    "    for reg_param in [1e-9, 1e-7, 1e-5, 1e-3, 1e-1, 1e1]:\n",
    "        plt.figure()\n",
    "        b,v,e = compute_BV_error_sample_plot(degree, reg_param)\n",
    "        print('================================')\n",
    "        print('Degree= '+str(degree)+' lambda= '+str(reg_param))\n",
    "        print('Bias = '+str(b))\n",
    "        print('Variance = '+str(v))\n",
    "        print('MSE = '+str(e))\n",
    "        "
   ]
  },
  {
   "cell_type": "code",
   "execution_count": null,
   "metadata": {},
   "outputs": [],
   "source": [
    "# Cell type: convenience\n",
    "\n"
   ]
  },
  {
   "cell_type": "markdown",
   "metadata": {},
   "source": [
    "** Cell type: TextWrite **\n",
    "Give the biases and variances computed for the various algorithms with various degrees and lambdas and summarise your findings.\n",
    "\n"
   ]
  },
  {
   "cell_type": "markdown",
   "metadata": {},
   "source": [
    "** Cell type : TextRead **\n",
    "\n",
    "# Problem 4 : Analyse overfitting and underfitting in Regression\n",
    "\n",
    "\n",
    "Consider the 2-dimensional regression dataset \"dateset4_1.npz\". Do polynomial ridge regression for degrees = [1,2,4,8,16], and regularisation parameter $\\lambda$ = [1e-9, 1e-7, 1e-5, 1e-3, 1e-1, 1e1]. Do all the above by using three different subset sizes of the training set : 50, 100, 200 and 1000. (Just take the first few samples of X_train and Y_train.)\n",
    "\n",
    "Regularised Risk = $\\frac{1}{m} \\sum_{i=1}^m (w^\\top \\phi(x_i) - y_i)^2 + \\frac{\\lambda}{2} ||w||^2 $ \n",
    "\n",
    "The lambda value is given by the regularisation parameter.\n",
    "\n",
    "In the next codewrite cell, for each training set size compute how the train and test squared error varies with degree and regularisation parameter. Compute the \"best\" degree and regularisation parameter based on the test squared error. Give a contour plot of the learned function for the chosen hyper-parameters, with appropriate title including the hyperparameters. Total number of figures = 4 (one for each training set size.)\n",
    "\n",
    "Summarise your findings in the next tex cell in a few sentences. And reproduce the tables showing train and test error for various training sizes, with appropriate row and column names.\n",
    "\n",
    "\n"
   ]
  },
  {
   "cell_type": "code",
   "execution_count": null,
   "metadata": {},
   "outputs": [],
   "source": [
    "# Cell type : CodeWrite \n"
   ]
  },
  {
   "cell_type": "markdown",
   "metadata": {},
   "source": [
    "** Cell type : TextWrite **"
   ]
  },
  {
   "cell_type": "code",
   "execution_count": null,
   "metadata": {},
   "outputs": [],
   "source": []
  }
 ],
 "metadata": {
  "kernelspec": {
   "display_name": "Python 3",
   "language": "python",
   "name": "python3"
  },
  "language_info": {
   "codemirror_mode": {
    "name": "ipython",
    "version": 3
   },
   "file_extension": ".py",
   "mimetype": "text/x-python",
   "name": "python",
   "nbconvert_exporter": "python",
   "pygments_lexer": "ipython3",
   "version": "3.6.5"
  }
 },
 "nbformat": 4,
 "nbformat_minor": 2
}
